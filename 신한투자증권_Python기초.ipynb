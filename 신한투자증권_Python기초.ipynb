{
  "nbformat": 4,
  "nbformat_minor": 0,
  "metadata": {
    "colab": {
      "provenance": []
    },
    "kernelspec": {
      "name": "python3",
      "display_name": "Python 3"
    },
    "language_info": {
      "name": "python"
    }
  },
  "cells": [
    {
      "cell_type": "markdown",
      "source": [
        "# **신한투자증권_Python기초**"
      ],
      "metadata": {
        "id": "HWKL8liJxdKB"
      }
    },
    {
      "cell_type": "markdown",
      "source": [
        "#Data type"
      ],
      "metadata": {
        "id": "zQyY-K7Y3OKD"
      }
    },
    {
      "cell_type": "code",
      "execution_count": null,
      "metadata": {
        "colab": {
          "base_uri": "https://localhost:8080/",
          "height": 35
        },
        "id": "ThVSljy8mXNk",
        "outputId": "45e4f6b2-8b46-4d49-8d34-4ec81a7e1757"
      },
      "outputs": [
        {
          "output_type": "execute_result",
          "data": {
            "text/plain": [
              "'John Doe'"
            ],
            "application/vnd.google.colaboratory.intrinsic+json": {
              "type": "string"
            }
          },
          "metadata": {},
          "execution_count": 7
        }
      ],
      "source": [
        "\"John Doe\""
      ]
    },
    {
      "cell_type": "code",
      "source": [
        "'Jane Doe'"
      ],
      "metadata": {
        "colab": {
          "base_uri": "https://localhost:8080/",
          "height": 35
        },
        "id": "elt-Myxu07eX",
        "outputId": "fbd629b9-c0e5-4b6b-cfd0-ff9f67d1c482"
      },
      "execution_count": null,
      "outputs": [
        {
          "output_type": "execute_result",
          "data": {
            "text/plain": [
              "'Jane Doe'"
            ],
            "application/vnd.google.colaboratory.intrinsic+json": {
              "type": "string"
            }
          },
          "metadata": {},
          "execution_count": 9
        }
      ]
    },
    {
      "cell_type": "code",
      "source": [
        "# Check data type: type()\n",
        "type('Jane Doe')"
      ],
      "metadata": {
        "colab": {
          "base_uri": "https://localhost:8080/"
        },
        "id": "MZBaK00Q3c0U",
        "outputId": "ba98ce82-e6d7-4e5e-ad85-000b991c485c"
      },
      "execution_count": null,
      "outputs": [
        {
          "output_type": "execute_result",
          "data": {
            "text/plain": [
              "str"
            ]
          },
          "metadata": {},
          "execution_count": 10
        }
      ]
    },
    {
      "cell_type": "code",
      "source": [
        "# multi-line string\n",
        "\"\"\"\n",
        "Line 1\n",
        "Line 2\n",
        "\"\"\"\n"
      ],
      "metadata": {
        "colab": {
          "base_uri": "https://localhost:8080/",
          "height": 35
        },
        "id": "JmKoiVxA3fXI",
        "outputId": "550f185a-7821-4e22-ce41-d5baec536c36"
      },
      "execution_count": null,
      "outputs": [
        {
          "output_type": "execute_result",
          "data": {
            "text/plain": [
              "'\\nLine 1\\nLine 2\\n'"
            ],
            "application/vnd.google.colaboratory.intrinsic+json": {
              "type": "string"
            }
          },
          "metadata": {},
          "execution_count": 12
        }
      ]
    },
    {
      "cell_type": "code",
      "source": [
        "#multi-line string의 존재이유\n",
        "\"John\n",
        "Doe\""
      ],
      "metadata": {
        "colab": {
          "base_uri": "https://localhost:8080/",
          "height": 136
        },
        "id": "CtxWK9oi368U",
        "outputId": "bbaa127a-51ae-4f2c-a966-6b16ebf99ef3"
      },
      "execution_count": null,
      "outputs": [
        {
          "output_type": "error",
          "ename": "SyntaxError",
          "evalue": "ignored",
          "traceback": [
            "\u001b[0;36m  File \u001b[0;32m\"<ipython-input-14-0ed032c281e7>\"\u001b[0;36m, line \u001b[0;32m2\u001b[0m\n\u001b[0;31m    \"John\u001b[0m\n\u001b[0m         ^\u001b[0m\n\u001b[0;31mSyntaxError\u001b[0m\u001b[0;31m:\u001b[0m EOL while scanning string literal\n"
          ]
        }
      ]
    },
    {
      "cell_type": "code",
      "source": [
        "#Integer: 정수\n",
        "#In Mathematics, +0-\n",
        "\n",
        "3"
      ],
      "metadata": {
        "colab": {
          "base_uri": "https://localhost:8080/"
        },
        "id": "IU4_Rd3s41v_",
        "outputId": "8a9a3af9-3858-4ff1-fa70-acac5ae16a67"
      },
      "execution_count": null,
      "outputs": [
        {
          "output_type": "execute_result",
          "data": {
            "text/plain": [
              "3"
            ]
          },
          "metadata": {},
          "execution_count": 15
        }
      ]
    },
    {
      "cell_type": "code",
      "source": [
        "-5"
      ],
      "metadata": {
        "colab": {
          "base_uri": "https://localhost:8080/"
        },
        "id": "lT-zpNEU5Vgk",
        "outputId": "b5f16dec-5e9c-4d72-9ff7-0cb9cc411666"
      },
      "execution_count": null,
      "outputs": [
        {
          "output_type": "execute_result",
          "data": {
            "text/plain": [
              "-5"
            ]
          },
          "metadata": {},
          "execution_count": 16
        }
      ]
    },
    {
      "cell_type": "code",
      "source": [
        "0"
      ],
      "metadata": {
        "colab": {
          "base_uri": "https://localhost:8080/"
        },
        "id": "oaZokUpJ5XVV",
        "outputId": "cdd5ae7c-4afd-46cb-90fa-90d83816cd54"
      },
      "execution_count": null,
      "outputs": [
        {
          "output_type": "execute_result",
          "data": {
            "text/plain": [
              "0"
            ]
          },
          "metadata": {},
          "execution_count": 17
        }
      ]
    },
    {
      "cell_type": "code",
      "source": [
        "# floating point\n",
        "\n",
        "3.14"
      ],
      "metadata": {
        "colab": {
          "base_uri": "https://localhost:8080/"
        },
        "id": "oSnlZ0Gc5X_3",
        "outputId": "d7e45c3a-4d4f-41b2-edf3-9655f81b474a"
      },
      "execution_count": null,
      "outputs": [
        {
          "output_type": "execute_result",
          "data": {
            "text/plain": [
              "3.14"
            ]
          },
          "metadata": {},
          "execution_count": 18
        }
      ]
    },
    {
      "cell_type": "code",
      "source": [
        "2.71828"
      ],
      "metadata": {
        "colab": {
          "base_uri": "https://localhost:8080/"
        },
        "id": "_cwBIRN_5eRy",
        "outputId": "0a47fe56-8a96-45ec-ccd0-bf64c960ca73"
      },
      "execution_count": null,
      "outputs": [
        {
          "output_type": "execute_result",
          "data": {
            "text/plain": [
              "2.71828"
            ]
          },
          "metadata": {},
          "execution_count": 19
        }
      ]
    },
    {
      "cell_type": "code",
      "source": [
        "1.0-0.1"
      ],
      "metadata": {
        "colab": {
          "base_uri": "https://localhost:8080/"
        },
        "id": "X5dpct9X5gGv",
        "outputId": "d1ed0687-cf37-4081-d080-76f70c1ded55"
      },
      "execution_count": null,
      "outputs": [
        {
          "output_type": "execute_result",
          "data": {
            "text/plain": [
              "0.9"
            ]
          },
          "metadata": {},
          "execution_count": 20
        }
      ]
    },
    {
      "cell_type": "code",
      "source": [
        "## Arithmetic Operator\n",
        "## + - * / // % **\n",
        "\n",
        "1+4\n"
      ],
      "metadata": {
        "colab": {
          "base_uri": "https://localhost:8080/"
        },
        "id": "K_1b39U15oFh",
        "outputId": "91fc7481-5192-4a8a-8e3c-67431e95a5ad"
      },
      "execution_count": null,
      "outputs": [
        {
          "output_type": "execute_result",
          "data": {
            "text/plain": [
              "5"
            ]
          },
          "metadata": {},
          "execution_count": 21
        }
      ]
    },
    {
      "cell_type": "code",
      "source": [
        "1-5"
      ],
      "metadata": {
        "colab": {
          "base_uri": "https://localhost:8080/"
        },
        "id": "TBd2w0tE7H-n",
        "outputId": "aaf7cfe0-3b41-4593-8b9b-a1e0b22ecebe"
      },
      "execution_count": null,
      "outputs": [
        {
          "output_type": "execute_result",
          "data": {
            "text/plain": [
              "-4"
            ]
          },
          "metadata": {},
          "execution_count": 22
        }
      ]
    },
    {
      "cell_type": "code",
      "source": [
        "3.14*5"
      ],
      "metadata": {
        "colab": {
          "base_uri": "https://localhost:8080/"
        },
        "id": "FojE_PWR7I7Q",
        "outputId": "71e84534-013c-49d0-f4bb-0cc725958066"
      },
      "execution_count": null,
      "outputs": [
        {
          "output_type": "execute_result",
          "data": {
            "text/plain": [
              "15.700000000000001"
            ]
          },
          "metadata": {},
          "execution_count": 23
        }
      ]
    },
    {
      "cell_type": "code",
      "source": [
        "2.7/8"
      ],
      "metadata": {
        "colab": {
          "base_uri": "https://localhost:8080/"
        },
        "id": "koI6QNO67Kom",
        "outputId": "ed8c59e2-188e-4c7e-cd9b-cadc01a9e422"
      },
      "execution_count": null,
      "outputs": [
        {
          "output_type": "execute_result",
          "data": {
            "text/plain": [
              "0.3375"
            ]
          },
          "metadata": {},
          "execution_count": 24
        }
      ]
    },
    {
      "cell_type": "code",
      "source": [
        "7//2"
      ],
      "metadata": {
        "colab": {
          "base_uri": "https://localhost:8080/"
        },
        "id": "rvl4W7MS7NBq",
        "outputId": "9b1e8f0f-f8c7-4895-935f-9482a57bd0d3"
      },
      "execution_count": null,
      "outputs": [
        {
          "output_type": "execute_result",
          "data": {
            "text/plain": [
              "3"
            ]
          },
          "metadata": {},
          "execution_count": 25
        }
      ]
    },
    {
      "cell_type": "code",
      "source": [
        "7%2"
      ],
      "metadata": {
        "colab": {
          "base_uri": "https://localhost:8080/"
        },
        "id": "RfoebTgK7VIL",
        "outputId": "243e7af1-7565-423b-8a14-1bd4ac9499bb"
      },
      "execution_count": null,
      "outputs": [
        {
          "output_type": "execute_result",
          "data": {
            "text/plain": [
              "1"
            ]
          },
          "metadata": {},
          "execution_count": 26
        }
      ]
    },
    {
      "cell_type": "code",
      "source": [
        "7**2"
      ],
      "metadata": {
        "colab": {
          "base_uri": "https://localhost:8080/"
        },
        "id": "vmMBlAXK7WlS",
        "outputId": "2ab5bc42-7595-4fe4-b7f2-0ea0ea9a2dc2"
      },
      "execution_count": null,
      "outputs": [
        {
          "output_type": "execute_result",
          "data": {
            "text/plain": [
              "49"
            ]
          },
          "metadata": {},
          "execution_count": 27
        }
      ]
    },
    {
      "cell_type": "code",
      "source": [
        "## Comparative Operator\n",
        "## > < >= <= == !=\n",
        "7>3"
      ],
      "metadata": {
        "colab": {
          "base_uri": "https://localhost:8080/"
        },
        "id": "DKtJmGBU72LX",
        "outputId": "f19404d6-4327-4b47-8608-7df1d446bab4"
      },
      "execution_count": null,
      "outputs": [
        {
          "output_type": "execute_result",
          "data": {
            "text/plain": [
              "True"
            ]
          },
          "metadata": {},
          "execution_count": 28
        }
      ]
    },
    {
      "cell_type": "code",
      "source": [
        "7<3"
      ],
      "metadata": {
        "colab": {
          "base_uri": "https://localhost:8080/"
        },
        "id": "Mfgh-XEQ-p5w",
        "outputId": "7130a170-5dca-479a-c1c8-01ce912a3bd5"
      },
      "execution_count": null,
      "outputs": [
        {
          "output_type": "execute_result",
          "data": {
            "text/plain": [
              "False"
            ]
          },
          "metadata": {},
          "execution_count": 29
        }
      ]
    },
    {
      "cell_type": "code",
      "source": [
        "type(7>3)"
      ],
      "metadata": {
        "colab": {
          "base_uri": "https://localhost:8080/"
        },
        "id": "Wmtjh1L9-q9i",
        "outputId": "740b1880-b5aa-4037-e1b9-b7f5387bbd46"
      },
      "execution_count": null,
      "outputs": [
        {
          "output_type": "execute_result",
          "data": {
            "text/plain": [
              "bool"
            ]
          },
          "metadata": {},
          "execution_count": 30
        }
      ]
    },
    {
      "cell_type": "code",
      "source": [
        "4>=4"
      ],
      "metadata": {
        "colab": {
          "base_uri": "https://localhost:8080/"
        },
        "id": "mayveeJ0-xcW",
        "outputId": "27c979c6-8222-432e-9573-3a0cdab427ea"
      },
      "execution_count": null,
      "outputs": [
        {
          "output_type": "execute_result",
          "data": {
            "text/plain": [
              "True"
            ]
          },
          "metadata": {},
          "execution_count": 31
        }
      ]
    },
    {
      "cell_type": "code",
      "source": [
        "username = \"John Doe\"\n",
        "username"
      ],
      "metadata": {
        "colab": {
          "base_uri": "https://localhost:8080/",
          "height": 35
        },
        "id": "yphuB68n_DT7",
        "outputId": "0c48d1da-61f0-4338-c623-2f54cc856260"
      },
      "execution_count": null,
      "outputs": [
        {
          "output_type": "execute_result",
          "data": {
            "text/plain": [
              "'John Doe'"
            ],
            "application/vnd.google.colaboratory.intrinsic+json": {
              "type": "string"
            }
          },
          "metadata": {},
          "execution_count": 32
        }
      ]
    },
    {
      "cell_type": "code",
      "source": [
        "print(\"Hello, \" + username)"
      ],
      "metadata": {
        "colab": {
          "base_uri": "https://localhost:8080/"
        },
        "id": "3l2Wtx47AEXT",
        "outputId": "cbee94df-1b7e-4999-8157-2aeecb0eb506"
      },
      "execution_count": null,
      "outputs": [
        {
          "output_type": "stream",
          "name": "stdout",
          "text": [
            "Hello, John Doe\n"
          ]
        }
      ]
    },
    {
      "cell_type": "code",
      "source": [
        "num1 = 3.14\n",
        "num2 = 2.71828\n",
        "\n",
        "num1+num2"
      ],
      "metadata": {
        "colab": {
          "base_uri": "https://localhost:8080/"
        },
        "id": "O5tsoqyMAV8y",
        "outputId": "233959f6-b403-4eed-a15f-06c08756e820"
      },
      "execution_count": null,
      "outputs": [
        {
          "output_type": "execute_result",
          "data": {
            "text/plain": [
              "5.858280000000001"
            ]
          },
          "metadata": {},
          "execution_count": 34
        }
      ]
    },
    {
      "cell_type": "code",
      "source": [
        "num1-num2"
      ],
      "metadata": {
        "colab": {
          "base_uri": "https://localhost:8080/"
        },
        "id": "Ek1_p591AtTZ",
        "outputId": "b518c783-a86c-48f1-ecaf-c3e4d442b4b5"
      },
      "execution_count": null,
      "outputs": [
        {
          "output_type": "execute_result",
          "data": {
            "text/plain": [
              "0.4217200000000001"
            ]
          },
          "metadata": {},
          "execution_count": 35
        }
      ]
    },
    {
      "cell_type": "markdown",
      "source": [
        "##Practice(1)\n",
        "반지름( r=10 )을 선언한 뒤, 이를 이용하여 원의 지름, 둘레, 넓이, 구의 겉넓이, 부피를 각각\n",
        "출력하는 파이썬 파일을 만들어보세요.( pi=3.1415 )\n"
      ],
      "metadata": {
        "id": "_SrbNQXCBf6-"
      }
    },
    {
      "cell_type": "code",
      "source": [
        "import math\n",
        "\n",
        "r=10\n",
        "\n",
        "print(\"원의 지름 =\", 2*r)\n",
        "print(\"원의 둘레 =\", 2*math.pi*r, sep= ' ')\n",
        "print(\"원의 넓이 =\", math.pi*r*r)\n",
        "print(\"구의 겉넓이 =\", 4*math.pi*r*r)\n",
        "print(\"구의 부피 =\", 4/3*math.pi*r*r*r)\n"
      ],
      "metadata": {
        "colab": {
          "base_uri": "https://localhost:8080/"
        },
        "id": "OJepS2TVAux0",
        "outputId": "bb653791-e916-4551-f904-824460bc0246"
      },
      "execution_count": null,
      "outputs": [
        {
          "output_type": "stream",
          "name": "stdout",
          "text": [
            "원의 지름 = 20\n",
            "원의 둘레 = 62.83185307179586\n",
            "원의 넓이 = 314.1592653589793\n",
            "구의 겉넓이 = 1256.6370614359173\n",
            "구의 부피 = 4188.790204786391\n"
          ]
        }
      ]
    },
    {
      "cell_type": "code",
      "source": [
        "# check docstring\n",
        "print?"
      ],
      "metadata": {
        "id": "jTHkLQe0AvuV"
      },
      "execution_count": null,
      "outputs": []
    },
    {
      "cell_type": "markdown",
      "source": [
        "#Type Casting"
      ],
      "metadata": {
        "id": "AQpjSxEdwRpA"
      }
    },
    {
      "cell_type": "code",
      "source": [
        "num1 = 1\n",
        "num2 = \"1\""
      ],
      "metadata": {
        "id": "uP-kKyWywRJa"
      },
      "execution_count": null,
      "outputs": []
    },
    {
      "cell_type": "code",
      "source": [
        "num1==num2"
      ],
      "metadata": {
        "colab": {
          "base_uri": "https://localhost:8080/"
        },
        "id": "4roeKjrAwauv",
        "outputId": "21a7fb56-5860-4212-fcb7-fbd28ede18b3"
      },
      "execution_count": null,
      "outputs": [
        {
          "output_type": "execute_result",
          "data": {
            "text/plain": [
              "False"
            ]
          },
          "metadata": {},
          "execution_count": 2
        }
      ]
    },
    {
      "cell_type": "code",
      "source": [
        "type(3)"
      ],
      "metadata": {
        "colab": {
          "base_uri": "https://localhost:8080/"
        },
        "id": "8YK4ClVPwdIe",
        "outputId": "3c7cc3d9-baef-41f7-991a-b84cb6f176ef"
      },
      "execution_count": null,
      "outputs": [
        {
          "output_type": "execute_result",
          "data": {
            "text/plain": [
              "int"
            ]
          },
          "metadata": {},
          "execution_count": 3
        }
      ]
    },
    {
      "cell_type": "code",
      "source": [
        "float(3)"
      ],
      "metadata": {
        "colab": {
          "base_uri": "https://localhost:8080/"
        },
        "id": "DeIaftMZxDs9",
        "outputId": "e832f7c7-3d12-4a3d-e5d4-0c67236095fa"
      },
      "execution_count": null,
      "outputs": [
        {
          "output_type": "execute_result",
          "data": {
            "text/plain": [
              "3.0"
            ]
          },
          "metadata": {},
          "execution_count": 4
        }
      ]
    },
    {
      "cell_type": "code",
      "source": [
        "type(float(3))"
      ],
      "metadata": {
        "colab": {
          "base_uri": "https://localhost:8080/"
        },
        "id": "1PtHs4_ixFNR",
        "outputId": "175e6199-cbb1-48a3-afea-edb3c36427f5"
      },
      "execution_count": null,
      "outputs": [
        {
          "output_type": "execute_result",
          "data": {
            "text/plain": [
              "float"
            ]
          },
          "metadata": {},
          "execution_count": 5
        }
      ]
    },
    {
      "cell_type": "code",
      "source": [
        "int(3.14)"
      ],
      "metadata": {
        "colab": {
          "base_uri": "https://localhost:8080/"
        },
        "id": "nsWJ6LrpxHIN",
        "outputId": "9d8fdb6c-6576-4792-f086-8c9e7648feca"
      },
      "execution_count": null,
      "outputs": [
        {
          "output_type": "execute_result",
          "data": {
            "text/plain": [
              "3"
            ]
          },
          "metadata": {},
          "execution_count": 6
        }
      ]
    },
    {
      "cell_type": "code",
      "source": [
        "# unpredictable variable\n",
        "memo = eval(input(\"Say anything> \"))\n",
        "print(memo,type(memo))"
      ],
      "metadata": {
        "colab": {
          "base_uri": "https://localhost:8080/"
        },
        "id": "Bc_oCQ8DxUeV",
        "outputId": "fbf5d5d2-77d3-4a26-8275-af1eb92948cf"
      },
      "execution_count": null,
      "outputs": [
        {
          "output_type": "stream",
          "name": "stdout",
          "text": [
            "Say anything> 1\n",
            "1 <class 'int'>\n"
          ]
        }
      ]
    },
    {
      "cell_type": "markdown",
      "source": [],
      "metadata": {
        "id": "x2aZxor81Ewr"
      }
    },
    {
      "cell_type": "code",
      "source": [
        "func = \"I saw Susie sitting in a shoeshone shop.\""
      ],
      "metadata": {
        "id": "kluApbjd0UUQ"
      },
      "execution_count": null,
      "outputs": []
    },
    {
      "cell_type": "code",
      "source": [
        "func.count('s')"
      ],
      "metadata": {
        "colab": {
          "base_uri": "https://localhost:8080/"
        },
        "id": "B8_-dlJi_maB",
        "outputId": "9593997c-fd6e-4b2c-e3c5-65a686c995d9"
      },
      "execution_count": null,
      "outputs": [
        {
          "output_type": "execute_result",
          "data": {
            "text/plain": [
              "6"
            ]
          },
          "metadata": {},
          "execution_count": 11
        }
      ]
    },
    {
      "cell_type": "code",
      "source": [
        "func.find('s')"
      ],
      "metadata": {
        "colab": {
          "base_uri": "https://localhost:8080/"
        },
        "id": "9cb_4TVx_tLK",
        "outputId": "61b9d581-cace-412c-d528-93e76ef363b9"
      },
      "execution_count": null,
      "outputs": [
        {
          "output_type": "execute_result",
          "data": {
            "text/plain": [
              "2"
            ]
          },
          "metadata": {},
          "execution_count": 12
        }
      ]
    },
    {
      "cell_type": "code",
      "source": [
        "comma = ','\n",
        "func = comma.join(func)\n",
        "func"
      ],
      "metadata": {
        "colab": {
          "base_uri": "https://localhost:8080/",
          "height": 35
        },
        "id": "kXKh_DtwAK3b",
        "outputId": "d40226ce-8287-4acf-85e6-1de908e56540"
      },
      "execution_count": null,
      "outputs": [
        {
          "output_type": "execute_result",
          "data": {
            "text/plain": [
              "'I, ,s,a,w, ,S,u,s,i,e, ,s,i,t,t,i,n,g, ,i,n, ,a, ,s,h,o,e,s,h,o,n,e, ,s,h,o,p,.'"
            ],
            "application/vnd.google.colaboratory.intrinsic+json": {
              "type": "string"
            }
          },
          "metadata": {},
          "execution_count": 14
        }
      ]
    },
    {
      "cell_type": "code",
      "source": [
        "func.split(',')"
      ],
      "metadata": {
        "colab": {
          "base_uri": "https://localhost:8080/"
        },
        "id": "qtP4uxJ2AcaB",
        "outputId": "386c354f-1269-48c9-eb61-ad2e1d3a0110"
      },
      "execution_count": null,
      "outputs": [
        {
          "output_type": "execute_result",
          "data": {
            "text/plain": [
              "['I',\n",
              " ' ',\n",
              " 's',\n",
              " 'a',\n",
              " 'w',\n",
              " ' ',\n",
              " 'S',\n",
              " 'u',\n",
              " 's',\n",
              " 'i',\n",
              " 'e',\n",
              " ' ',\n",
              " 's',\n",
              " 'i',\n",
              " 't',\n",
              " 't',\n",
              " 'i',\n",
              " 'n',\n",
              " 'g',\n",
              " ' ',\n",
              " 'i',\n",
              " 'n',\n",
              " ' ',\n",
              " 'a',\n",
              " ' ',\n",
              " 's',\n",
              " 'h',\n",
              " 'o',\n",
              " 'e',\n",
              " 's',\n",
              " 'h',\n",
              " 'o',\n",
              " 'n',\n",
              " 'e',\n",
              " ' ',\n",
              " 's',\n",
              " 'h',\n",
              " 'o',\n",
              " 'p',\n",
              " '.']"
            ]
          },
          "metadata": {},
          "execution_count": 15
        }
      ]
    },
    {
      "cell_type": "code",
      "source": [
        "some_string = 'Python is good!'\n",
        "some_string.replace('Python','Golang')\n",
        "some_string"
      ],
      "metadata": {
        "colab": {
          "base_uri": "https://localhost:8080/",
          "height": 35
        },
        "id": "qqnpV8Z-Amgh",
        "outputId": "fd17e297-98b7-4167-d5d9-84dfabb89852"
      },
      "execution_count": null,
      "outputs": [
        {
          "output_type": "execute_result",
          "data": {
            "text/plain": [
              "'Python is good!'"
            ],
            "application/vnd.google.colaboratory.intrinsic+json": {
              "type": "string"
            }
          },
          "metadata": {},
          "execution_count": 16
        }
      ]
    },
    {
      "cell_type": "code",
      "source": [
        "some_string = \"       mic, cable and computer      \""
      ],
      "metadata": {
        "id": "z-Ye2d1xBM3-"
      },
      "execution_count": null,
      "outputs": []
    },
    {
      "cell_type": "code",
      "source": [
        "some_string.strip()"
      ],
      "metadata": {
        "colab": {
          "base_uri": "https://localhost:8080/",
          "height": 35
        },
        "id": "WGmW3r9xB3Nn",
        "outputId": "f859d70b-9673-4330-ec2f-d021954805b4"
      },
      "execution_count": null,
      "outputs": [
        {
          "output_type": "execute_result",
          "data": {
            "text/plain": [
              "'mic, cable and computer'"
            ],
            "application/vnd.google.colaboratory.intrinsic+json": {
              "type": "string"
            }
          },
          "metadata": {},
          "execution_count": 18
        }
      ]
    },
    {
      "cell_type": "code",
      "source": [
        "username = input(\"Enter your username >\")\n",
        "user_pw = input(\"Enter your password >\")\n",
        "\n",
        "print(f\"So, you are {username:20}, your password is {user_pw:20}, Right?\")"
      ],
      "metadata": {
        "colab": {
          "base_uri": "https://localhost:8080/"
        },
        "id": "eJDpCWY_B7U-",
        "outputId": "a6e0229c-5a97-4b3a-ba0d-e7b294eadea3"
      },
      "execution_count": null,
      "outputs": [
        {
          "output_type": "stream",
          "name": "stdout",
          "text": [
            "Enter your username >a\n",
            "Enter your password >b\n",
            "So, you are a                   , your password is b                   , Right?\n"
          ]
        }
      ]
    },
    {
      "cell_type": "code",
      "source": [
        "print(f\"So, you are {username:*^15}, your password is {user_pw:*^15}, Right?\")"
      ],
      "metadata": {
        "colab": {
          "base_uri": "https://localhost:8080/"
        },
        "id": "_R3AK8V6EPdP",
        "outputId": "b7979258-844c-4bef-feea-58f7980e25a9"
      },
      "execution_count": null,
      "outputs": [
        {
          "output_type": "stream",
          "name": "stdout",
          "text": [
            "So, you are *******a*******, your password is *******b*******, Right?\n"
          ]
        }
      ]
    },
    {
      "cell_type": "markdown",
      "source": [
        "Final Practice\n",
        "1. 사용자가 입력한 전화번호를 저장하려합니다. 전화번호의 구분자로 - 또는 를 혼합하\n",
        "여 사용할 때 이를 split과 join을 이용하여 - 로 통일하여 입력 받아 결과물을 출력하세\n",
        "요.\n",
        "2. 사용자가 다음과 같은 입력을 할때, 그 자료가 알파벳 단독인지, 숫자 단독인지, 알파벳\n",
        "숫자인지, 소문자인지, 대문자인지를 formating 하여 출력하세요.\n"
      ],
      "metadata": {
        "id": "lSHRBIJ1JDEP"
      }
    },
    {
      "cell_type": "code",
      "source": [
        "telnum=input(\"전화번호를 입력하시오 >\")\n",
        "\n",
        "result='-'.join(telnum.split())\n",
        "print(result)"
      ],
      "metadata": {
        "colab": {
          "base_uri": "https://localhost:8080/"
        },
        "id": "7VR4qAJNAVom",
        "outputId": "15e1a857-aefe-4be5-e903-e8a7cfe388ec"
      },
      "execution_count": null,
      "outputs": [
        {
          "output_type": "stream",
          "name": "stdout",
          "text": [
            "전화번호를 입력하시오 >101-234-2435\n",
            "101-234-2435\n"
          ]
        }
      ]
    },
    {
      "cell_type": "code",
      "source": [
        "var = input(\"입력하세요 >\")\n",
        "print(f\"그 자료는 {var.isalpha(),var.isdigit(),var.isalnum(),var.islower(),var.isupper()} format입니다\")"
      ],
      "metadata": {
        "colab": {
          "base_uri": "https://localhost:8080/"
        },
        "id": "CRj0dEZvJxS5",
        "outputId": "b3c89c32-de8f-46f4-94cf-9dad285d16bb"
      },
      "execution_count": null,
      "outputs": [
        {
          "output_type": "stream",
          "name": "stdout",
          "text": [
            "입력하세요 >awe2\n",
            "그 자료는 (False, False, True, True, False) format입니다\n"
          ]
        }
      ]
    },
    {
      "cell_type": "markdown",
      "source": [
        "#List"
      ],
      "metadata": {
        "id": "4llrvcHZzCmB"
      }
    },
    {
      "cell_type": "code",
      "source": [
        "# 빈 리스트 선언하기\n",
        "animals = []"
      ],
      "metadata": {
        "id": "F6cJjidCLbSv"
      },
      "execution_count": null,
      "outputs": []
    },
    {
      "cell_type": "code",
      "source": [
        "animals = ['cat','dog','hamster']\n",
        "animals"
      ],
      "metadata": {
        "colab": {
          "base_uri": "https://localhost:8080/"
        },
        "id": "ThmgKjF7zK31",
        "outputId": "80db0ac7-2a7e-4009-a8f5-71ac873d0a2d"
      },
      "execution_count": null,
      "outputs": [
        {
          "output_type": "execute_result",
          "data": {
            "text/plain": [
              "['cat', 'dog', 'hamster']"
            ]
          },
          "metadata": {},
          "execution_count": 2
        }
      ]
    },
    {
      "cell_type": "code",
      "source": [
        "animals.append('lion')"
      ],
      "metadata": {
        "id": "K4IxkPi7zT-T"
      },
      "execution_count": null,
      "outputs": []
    },
    {
      "cell_type": "code",
      "source": [
        "animals"
      ],
      "metadata": {
        "colab": {
          "base_uri": "https://localhost:8080/"
        },
        "id": "5L9h5aMezgm2",
        "outputId": "50af9ecb-c003-4745-9639-78c668e4d512"
      },
      "execution_count": null,
      "outputs": [
        {
          "output_type": "execute_result",
          "data": {
            "text/plain": [
              "['cat', 'dog', 'hamster', 'lion']"
            ]
          },
          "metadata": {},
          "execution_count": 4
        }
      ]
    },
    {
      "cell_type": "code",
      "source": [
        "animals.pop()"
      ],
      "metadata": {
        "colab": {
          "base_uri": "https://localhost:8080/",
          "height": 35
        },
        "id": "alAQi3Ovzh5u",
        "outputId": "e62e04f5-6036-4b24-a6bd-65880bef7b1a"
      },
      "execution_count": null,
      "outputs": [
        {
          "output_type": "execute_result",
          "data": {
            "text/plain": [
              "'lion'"
            ],
            "application/vnd.google.colaboratory.intrinsic+json": {
              "type": "string"
            }
          },
          "metadata": {},
          "execution_count": 5
        }
      ]
    },
    {
      "cell_type": "code",
      "source": [
        "animals.insert(1,'tiger')\n",
        "animals"
      ],
      "metadata": {
        "colab": {
          "base_uri": "https://localhost:8080/"
        },
        "id": "Fxg9O-WZzwp6",
        "outputId": "4b86cb37-5fac-4692-8784-ec1af332e0b2"
      },
      "execution_count": null,
      "outputs": [
        {
          "output_type": "execute_result",
          "data": {
            "text/plain": [
              "['cat', 'tiger', 'dog', 'hamster']"
            ]
          },
          "metadata": {},
          "execution_count": 6
        }
      ]
    },
    {
      "cell_type": "code",
      "source": [
        "animals.sort()"
      ],
      "metadata": {
        "id": "EjynntH30TZd"
      },
      "execution_count": null,
      "outputs": []
    },
    {
      "cell_type": "code",
      "source": [
        "animals"
      ],
      "metadata": {
        "colab": {
          "base_uri": "https://localhost:8080/"
        },
        "id": "6cBRoH9Z0cFr",
        "outputId": "d8611ef9-38bb-4924-fec4-5e79ccb83c2a"
      },
      "execution_count": null,
      "outputs": [
        {
          "output_type": "execute_result",
          "data": {
            "text/plain": [
              "['cat', 'dog', 'hamster', 'tiger']"
            ]
          },
          "metadata": {},
          "execution_count": 8
        }
      ]
    },
    {
      "cell_type": "code",
      "source": [
        "animals.reverse()\n",
        "animals"
      ],
      "metadata": {
        "colab": {
          "base_uri": "https://localhost:8080/"
        },
        "id": "GCyQAvo20dFT",
        "outputId": "71280b54-2565-48e6-cafb-5b4bc28194ab"
      },
      "execution_count": null,
      "outputs": [
        {
          "output_type": "execute_result",
          "data": {
            "text/plain": [
              "['tiger', 'hamster', 'dog', 'cat']"
            ]
          },
          "metadata": {},
          "execution_count": 9
        }
      ]
    },
    {
      "cell_type": "code",
      "source": [
        "print('a','b','c', sep='\\t',end='')\n",
        "print('a','b','c', sep='\\t')"
      ],
      "metadata": {
        "colab": {
          "base_uri": "https://localhost:8080/"
        },
        "id": "q_d2Tn681F12",
        "outputId": "9f00f64b-619b-42b7-e484-f1df71ca3ef9"
      },
      "execution_count": null,
      "outputs": [
        {
          "output_type": "stream",
          "name": "stdout",
          "text": [
            "a\tb\tca\tb\tc\n"
          ]
        }
      ]
    },
    {
      "cell_type": "code",
      "source": [
        "animals.index('dog')"
      ],
      "metadata": {
        "colab": {
          "base_uri": "https://localhost:8080/"
        },
        "id": "QKol125z2KHv",
        "outputId": "5bf9d65d-c7d4-4b8b-f542-ec9e6ec80775"
      },
      "execution_count": null,
      "outputs": [
        {
          "output_type": "execute_result",
          "data": {
            "text/plain": [
              "2"
            ]
          },
          "metadata": {},
          "execution_count": 13
        }
      ]
    },
    {
      "cell_type": "code",
      "source": [
        "x=1\n",
        "y=-1\n",
        "x,y=y,x"
      ],
      "metadata": {
        "id": "QeSZ6LdR3jGp"
      },
      "execution_count": null,
      "outputs": []
    },
    {
      "cell_type": "code",
      "source": [
        "x"
      ],
      "metadata": {
        "colab": {
          "base_uri": "https://localhost:8080/"
        },
        "id": "z6M7W0zH6_zV",
        "outputId": "453b273c-9164-4d0d-97ea-356d6e7b0f2e"
      },
      "execution_count": null,
      "outputs": [
        {
          "output_type": "execute_result",
          "data": {
            "text/plain": [
              "-1"
            ]
          },
          "metadata": {},
          "execution_count": 15
        }
      ]
    },
    {
      "cell_type": "markdown",
      "source": [
        "practice(1)\n",
        "list와 tuple을 이용하여 다음의 문제를 해결하세요.\n",
        "1. 변수 animals 에 다음의 자료를 입력하세요.\n",
        "rabbit, cat, dog, aligator, tiger, lion\n",
        "2. animals에 새로운 동물을 3마리 추가하세요.\n",
        "3. animals를 알파벳 내림차순으로 정렬하세요.\n",
        "4. 정렬된 animals의 짝수(index 기준) 동물을 even_animals에 할당하세요.\n"
      ],
      "metadata": {
        "id": "Dz08rBBh_q1T"
      }
    },
    {
      "cell_type": "code",
      "source": [
        "animals=['rabbit', 'cat', 'dog', 'aligator', 'tiger', 'lion']\n",
        "animals.append('elephant')\n",
        "animals.append('bear')\n",
        "animals.append('monkey')\n",
        "animals.sort(reverse=True)\n",
        "even_animals=animals[::2]\n",
        "even_animals"
      ],
      "metadata": {
        "colab": {
          "base_uri": "https://localhost:8080/"
        },
        "id": "x8lFokN77Ao7",
        "outputId": "9643a426-f8e9-47a8-cb94-2cc4bda3a26d"
      },
      "execution_count": null,
      "outputs": [
        {
          "output_type": "execute_result",
          "data": {
            "text/plain": [
              "['tiger', 'monkey', 'elephant', 'cat', 'aligator']"
            ]
          },
          "metadata": {},
          "execution_count": 25
        }
      ]
    },
    {
      "cell_type": "code",
      "source": [
        "tanimals=tuple(animals)\n",
        "t=tanimals[::2]\n",
        "t"
      ],
      "metadata": {
        "colab": {
          "base_uri": "https://localhost:8080/"
        },
        "id": "5xtNN9dWCFEH",
        "outputId": "707b7661-a227-4ff6-85fb-8515d74290dc"
      },
      "execution_count": null,
      "outputs": [
        {
          "output_type": "execute_result",
          "data": {
            "text/plain": [
              "('tiger', 'monkey', 'elephant', 'cat', 'aligator')"
            ]
          },
          "metadata": {},
          "execution_count": 26
        }
      ]
    },
    {
      "cell_type": "markdown",
      "source": [
        "#Dictionary"
      ],
      "metadata": {
        "id": "jhvUugeCQIyV"
      }
    },
    {
      "cell_type": "code",
      "source": [
        "#some_dict={}\n",
        "some_dict = {\n",
        "    'name':'John',\n",
        "    'surname':'Doe',\n",
        "}\n",
        "another_dict = dict([('name','John'),('surname','Doe')])"
      ],
      "metadata": {
        "id": "UqEliLrpDSEM"
      },
      "execution_count": null,
      "outputs": []
    },
    {
      "cell_type": "code",
      "source": [
        "some_dict['name']"
      ],
      "metadata": {
        "colab": {
          "base_uri": "https://localhost:8080/",
          "height": 35
        },
        "id": "RWEygIDwCC_i",
        "outputId": "30bdc99b-bebf-46aa-9d35-c8c9cbf8bb18"
      },
      "execution_count": null,
      "outputs": [
        {
          "output_type": "execute_result",
          "data": {
            "text/plain": [
              "'John'"
            ],
            "application/vnd.google.colaboratory.intrinsic+json": {
              "type": "string"
            }
          },
          "metadata": {},
          "execution_count": 32
        }
      ]
    },
    {
      "cell_type": "code",
      "source": [
        "another_dict"
      ],
      "metadata": {
        "colab": {
          "base_uri": "https://localhost:8080/"
        },
        "id": "2NmJjZUQQwTB",
        "outputId": "433438b2-00ad-4c49-fc47-bc1057551811"
      },
      "execution_count": null,
      "outputs": [
        {
          "output_type": "execute_result",
          "data": {
            "text/plain": [
              "{'name': 'John', 'surname': 'Doe'}"
            ]
          },
          "metadata": {},
          "execution_count": 33
        }
      ]
    },
    {
      "cell_type": "code",
      "source": [
        "another_dict['surname']"
      ],
      "metadata": {
        "colab": {
          "base_uri": "https://localhost:8080/",
          "height": 35
        },
        "id": "_P3VAm3_B2M9",
        "outputId": "a80ca602-3d25-4484-e112-c5f21cfdd863"
      },
      "execution_count": null,
      "outputs": [
        {
          "output_type": "execute_result",
          "data": {
            "text/plain": [
              "'Doe'"
            ],
            "application/vnd.google.colaboratory.intrinsic+json": {
              "type": "string"
            }
          },
          "metadata": {},
          "execution_count": 34
        }
      ]
    },
    {
      "cell_type": "code",
      "source": [
        "some_dict"
      ],
      "metadata": {
        "colab": {
          "base_uri": "https://localhost:8080/"
        },
        "id": "7rPeWFRJAbT_",
        "outputId": "4d87a63c-96bc-4c74-d7fa-919736e1e4a5"
      },
      "execution_count": null,
      "outputs": [
        {
          "output_type": "execute_result",
          "data": {
            "text/plain": [
              "{'name': 'John', 'surname': 'Doe'}"
            ]
          },
          "metadata": {},
          "execution_count": 35
        }
      ]
    },
    {
      "cell_type": "code",
      "source": [
        "some_dict['locale']='Seoul, Korea'\n",
        "some_dict"
      ],
      "metadata": {
        "colab": {
          "base_uri": "https://localhost:8080/"
        },
        "id": "N-9pautaRkGY",
        "outputId": "5bc46a3e-83b8-4f73-a10e-a0db0e0512b9"
      },
      "execution_count": null,
      "outputs": [
        {
          "output_type": "execute_result",
          "data": {
            "text/plain": [
              "{'name': 'John', 'surname': 'Doe', 'locale': 'Seoul, Korea'}"
            ]
          },
          "metadata": {},
          "execution_count": 36
        }
      ]
    },
    {
      "cell_type": "code",
      "source": [
        "some_dict['email'] = 'johndoe1234@gmail.com'\n",
        "some_dict"
      ],
      "metadata": {
        "colab": {
          "base_uri": "https://localhost:8080/"
        },
        "id": "ug2TYE-ORq7f",
        "outputId": "40ad1b64-706d-481b-8dcb-a013f53f28d3"
      },
      "execution_count": null,
      "outputs": [
        {
          "output_type": "execute_result",
          "data": {
            "text/plain": [
              "{'name': 'John',\n",
              " 'surname': 'Doe',\n",
              " 'locale': 'Seoul, Korea',\n",
              " 'email': 'johndoe1234@gmail.com'}"
            ]
          },
          "metadata": {},
          "execution_count": 37
        }
      ]
    },
    {
      "cell_type": "code",
      "source": [
        "some_dict['mid-term']={}\n",
        "some_dict"
      ],
      "metadata": {
        "colab": {
          "base_uri": "https://localhost:8080/"
        },
        "id": "PyI4nrJ2R5VT",
        "outputId": "cf619424-1e6b-40a7-c1aa-d72d6a53f1cc"
      },
      "execution_count": null,
      "outputs": [
        {
          "output_type": "execute_result",
          "data": {
            "text/plain": [
              "{'name': 'John',\n",
              " 'surname': 'Doe',\n",
              " 'locale': 'Seoul, Korea',\n",
              " 'email': 'johndoe1234@gmail.com',\n",
              " 'mid-term': {}}"
            ]
          },
          "metadata": {},
          "execution_count": 38
        }
      ]
    },
    {
      "cell_type": "code",
      "source": [
        "some_dict['mid-term']['Korean']=80\n",
        "some_dict"
      ],
      "metadata": {
        "colab": {
          "base_uri": "https://localhost:8080/"
        },
        "id": "FbGJ6fEsScjj",
        "outputId": "c7982530-8b68-41be-da25-5bf0b3e72323"
      },
      "execution_count": null,
      "outputs": [
        {
          "output_type": "execute_result",
          "data": {
            "text/plain": [
              "{'name': 'John',\n",
              " 'surname': 'Doe',\n",
              " 'locale': 'Seoul, Korea',\n",
              " 'email': 'johndoe1234@gmail.com',\n",
              " 'mid-term': {'Korean': 80}}"
            ]
          },
          "metadata": {},
          "execution_count": 39
        }
      ]
    },
    {
      "cell_type": "code",
      "source": [
        "some_dict['mid-term']['Math']=60\n",
        "some_dict['mid-term']['English']=50\n",
        "some_dict['mid-term']['Science']=[10,40,30,50]\n",
        "some_dict"
      ],
      "metadata": {
        "colab": {
          "base_uri": "https://localhost:8080/"
        },
        "id": "ISeZY31LSyJp",
        "outputId": "9107e4c2-e55a-48b5-b6dc-b7988b2a8df4"
      },
      "execution_count": null,
      "outputs": [
        {
          "output_type": "execute_result",
          "data": {
            "text/plain": [
              "{'name': 'John',\n",
              " 'surname': 'Doe',\n",
              " 'locale': 'Seoul, Korea',\n",
              " 'email': 'johndoe1234@gmail.com',\n",
              " 'mid-term': {'Korean': 80,\n",
              "  'Math': 60,\n",
              "  'English': 50,\n",
              "  'Science': [10, 40, 30, 50]}}"
            ]
          },
          "metadata": {},
          "execution_count": 40
        }
      ]
    },
    {
      "cell_type": "code",
      "source": [
        "some_dict['mid-term']['English']=70\n",
        "some_dict"
      ],
      "metadata": {
        "colab": {
          "base_uri": "https://localhost:8080/"
        },
        "id": "5eZZ39jETHJN",
        "outputId": "297bbb1f-a5ac-4816-fd74-614f25d35771"
      },
      "execution_count": null,
      "outputs": [
        {
          "output_type": "execute_result",
          "data": {
            "text/plain": [
              "{'name': 'John',\n",
              " 'surname': 'Doe',\n",
              " 'locale': 'Seoul, Korea',\n",
              " 'email': 'johndoe1234@gmail.com',\n",
              " 'mid-term': {'Korean': 80,\n",
              "  'Math': 60,\n",
              "  'English': 70,\n",
              "  'Science': [10, 40, 30, 50]}}"
            ]
          },
          "metadata": {},
          "execution_count": 41
        }
      ]
    },
    {
      "cell_type": "code",
      "source": [
        "del some_dict['email']"
      ],
      "metadata": {
        "id": "GsUNd5NRTajx"
      },
      "execution_count": null,
      "outputs": []
    },
    {
      "cell_type": "code",
      "source": [
        "print(some_dict.keys())\n",
        "print(some_dict.values())"
      ],
      "metadata": {
        "colab": {
          "base_uri": "https://localhost:8080/"
        },
        "id": "9SN0r2x2AYOY",
        "outputId": "eb5822b0-dc7c-4347-8b83-600b1d70a874"
      },
      "execution_count": null,
      "outputs": [
        {
          "output_type": "stream",
          "name": "stdout",
          "text": [
            "dict_keys(['name', 'surname', 'locale', 'mid-term'])\n",
            "dict_values(['John', 'Doe', 'Seoul, Korea', {'Korean': 80, 'Math': 60, 'English': 70, 'Science': [10, 40, 30, 50]}])\n"
          ]
        }
      ]
    },
    {
      "cell_type": "code",
      "source": [
        "some_dict.popitem()"
      ],
      "metadata": {
        "colab": {
          "base_uri": "https://localhost:8080/"
        },
        "id": "QMz5375pUUwi",
        "outputId": "bd572044-cff2-42d6-9457-7f697370acde"
      },
      "execution_count": null,
      "outputs": [
        {
          "output_type": "execute_result",
          "data": {
            "text/plain": [
              "('mid-term',\n",
              " {'Korean': 80, 'Math': 60, 'English': 70, 'Science': [10, 40, 30, 50]})"
            ]
          },
          "metadata": {},
          "execution_count": 45
        }
      ]
    },
    {
      "cell_type": "code",
      "source": [
        "some_dict.get('english',0)"
      ],
      "metadata": {
        "colab": {
          "base_uri": "https://localhost:8080/"
        },
        "id": "GsLRySm0UMjC",
        "outputId": "c32e50c8-7f9c-4df8-e7d3-a2ebb0373777"
      },
      "execution_count": null,
      "outputs": [
        {
          "output_type": "execute_result",
          "data": {
            "text/plain": [
              "0"
            ]
          },
          "metadata": {},
          "execution_count": 46
        }
      ]
    },
    {
      "cell_type": "code",
      "source": [
        "some_dict.setdefault('english',[])"
      ],
      "metadata": {
        "colab": {
          "base_uri": "https://localhost:8080/"
        },
        "id": "MFghZPXC2C4p",
        "outputId": "194075fd-293d-4434-f316-aef5df1ba894"
      },
      "execution_count": null,
      "outputs": [
        {
          "output_type": "execute_result",
          "data": {
            "text/plain": [
              "[]"
            ]
          },
          "metadata": {},
          "execution_count": 47
        }
      ]
    },
    {
      "cell_type": "code",
      "source": [
        "some_dict"
      ],
      "metadata": {
        "colab": {
          "base_uri": "https://localhost:8080/"
        },
        "id": "zwCgsxBLXdKe",
        "outputId": "34cb4075-3206-4107-e52f-96977918f6c8"
      },
      "execution_count": null,
      "outputs": [
        {
          "output_type": "execute_result",
          "data": {
            "text/plain": [
              "{'name': 'John', 'surname': 'Doe', 'locale': 'Seoul, Korea', 'english': []}"
            ]
          },
          "metadata": {},
          "execution_count": 51
        }
      ]
    },
    {
      "cell_type": "code",
      "source": [
        "contact={\n",
        "    'name':'John Doe',\n",
        "    'Locale':'CA, USA'\n",
        "}\n",
        "print(f\"Hello, {contact['name']}. You are from {contact['Locale']}\")"
      ],
      "metadata": {
        "colab": {
          "base_uri": "https://localhost:8080/"
        },
        "id": "aTervxOkZPz8",
        "outputId": "07802429-4bf2-4192-ed31-91e134d2fc83"
      },
      "execution_count": null,
      "outputs": [
        {
          "output_type": "stream",
          "name": "stdout",
          "text": [
            "Hello, John Doe. You are from CA, USA\n"
          ]
        }
      ]
    },
    {
      "cell_type": "code",
      "source": [
        "print('Hello, {name}. You are from {Locale}'.format(**contact))"
      ],
      "metadata": {
        "colab": {
          "base_uri": "https://localhost:8080/"
        },
        "id": "foEi__0h2ANx",
        "outputId": "914b4835-f82c-4291-9898-ead815383d53"
      },
      "execution_count": null,
      "outputs": [
        {
          "output_type": "stream",
          "name": "stdout",
          "text": [
            "Hello, John Doe. You are from CA, USA\n"
          ]
        }
      ]
    },
    {
      "cell_type": "markdown",
      "source": [
        "#small quiz"
      ],
      "metadata": {
        "id": "rWhls-43eYbU"
      }
    },
    {
      "cell_type": "code",
      "source": [
        "A = 'fastcampus'\n",
        "B = 'python'\n",
        "\n",
        "a = set(A)\n",
        "b = set(B)\n",
        "\n",
        "print(a | b)\n",
        "print(a & b)\n",
        "print(a-b)\n",
        "print(a ^ b)\n"
      ],
      "metadata": {
        "id": "WBI9qHS9LRpT",
        "colab": {
          "base_uri": "https://localhost:8080/"
        },
        "outputId": "88c5c01d-fc82-4b0b-969a-95d31a810c3d"
      },
      "execution_count": null,
      "outputs": [
        {
          "output_type": "stream",
          "name": "stdout",
          "text": [
            "{'c', 'y', 'h', 't', 'p', 'm', 'f', 's', 'u', 'n', 'a', 'o'}\n",
            "{'t', 'p'}\n",
            "{'c', 'm', 'f', 's', 'u', 'a'}\n",
            "{'c', 'y', 'h', 'm', 'f', 's', 'u', 'n', 'a', 'o'}\n"
          ]
        }
      ]
    },
    {
      "cell_type": "markdown",
      "source": [
        "#set"
      ],
      "metadata": {
        "id": "pIxb6zgdgUJW"
      }
    },
    {
      "cell_type": "code",
      "source": [
        "faang = {'facebook','apple','amazon','netflix','google','google'}\n",
        "faang"
      ],
      "metadata": {
        "colab": {
          "base_uri": "https://localhost:8080/"
        },
        "id": "J4DiDpR1fU02",
        "outputId": "9907c142-07fb-471a-ac5e-f7f5711e91dc"
      },
      "execution_count": null,
      "outputs": [
        {
          "output_type": "execute_result",
          "data": {
            "text/plain": [
              "{'amazon', 'apple', 'facebook', 'google', 'netflix'}"
            ]
          },
          "metadata": {},
          "execution_count": 64
        }
      ]
    },
    {
      "cell_type": "code",
      "source": [
        "split_str = set('facebook')\n",
        "split_str"
      ],
      "metadata": {
        "id": "Ue4mh2ZtgfMq",
        "colab": {
          "base_uri": "https://localhost:8080/"
        },
        "outputId": "21644bce-45e9-4e59-c21e-332102c2a1c4"
      },
      "execution_count": null,
      "outputs": [
        {
          "output_type": "execute_result",
          "data": {
            "text/plain": [
              "{'a', 'b', 'c', 'e', 'f', 'k', 'o'}"
            ]
          },
          "metadata": {},
          "execution_count": 65
        }
      ]
    },
    {
      "cell_type": "code",
      "source": [
        "a = set('fastcampus')\n",
        "b = set('shinhan')\n",
        "print(a | b)\n",
        "print(a & b)\n",
        "print(a-b)\n",
        "print(a ^ b)"
      ],
      "metadata": {
        "id": "3NEbMd6afTdA",
        "colab": {
          "base_uri": "https://localhost:8080/"
        },
        "outputId": "7182b796-8027-4e20-a1a5-40a24cf4306a"
      },
      "execution_count": null,
      "outputs": [
        {
          "output_type": "stream",
          "name": "stdout",
          "text": [
            "{'c', 'i', 'h', 't', 'p', 'm', 'f', 's', 'u', 'n', 'a'}\n",
            "{'s', 'a'}\n",
            "{'c', 't', 'p', 'm', 'f', 'u'}\n",
            "{'c', 'f', 'u', 'n', 'i', 'h', 't', 'p', 'm'}\n"
          ]
        }
      ]
    },
    {
      "cell_type": "markdown",
      "source": [
        "Practice(2)\n",
        "dictionary와 set을 이용하여 다음 문제를 해결하세요.\n",
        "1. 다음 인적사항을 입력하세요.\n",
        "(list에 각 정보가 dict로 존재)\n",
        "Name Locale Age Username\n",
        "Johnny Silverhand Night City 120 Johnny\n",
        "John Doe CA, USA 40 Doh\n",
        "Jane Doe Seoul, Korea 24 jane-doe\n",
        "Foo Bar Busan, Korea 31 foo-ba"
      ],
      "metadata": {
        "id": "VfcsVnwtjAOt"
      }
    },
    {
      "cell_type": "code",
      "source": [
        "users = [\n",
        "    {'Name':'Johnny Silverhand',\n",
        "     'Locale':'Night City',\n",
        "     'Age':'120',\n",
        "     'Username':'Johnny'},\n",
        "    {'Name':'John Doe',\n",
        "     'Locale':'CA, USA',\n",
        "     'Age':'40',\n",
        "     'Username':'Doh'},\n",
        "    {'Name':'Jane Doe',\n",
        "     'Locale':'Seoul, Korea',\n",
        "     'Age':'24',\n",
        "     'Username':'jane-doe'},\n",
        "    {'Name':'Foo Bar',\n",
        "     'Locale':'Busan, Korea',\n",
        "     'Age':'31',\n",
        "     'Username':'foo-bar'}\n",
        "]\n",
        "\n",
        "print(users[1])\n",
        "\n",
        "users[1]['Locale']='London, UK'\n"
      ],
      "metadata": {
        "id": "yIHZ7i62fGcQ",
        "colab": {
          "base_uri": "https://localhost:8080/"
        },
        "outputId": "ec2e463b-5394-483d-a5fc-1cf55a7d51b6"
      },
      "execution_count": null,
      "outputs": [
        {
          "output_type": "stream",
          "name": "stdout",
          "text": [
            "{'Name': 'John Doe', 'Locale': 'CA, USA', 'Age': '40', 'Username': 'Doh'}\n"
          ]
        }
      ]
    },
    {
      "cell_type": "code",
      "source": [
        "users[0].items()\n"
      ],
      "metadata": {
        "id": "-d_A_WcXfEgj",
        "colab": {
          "base_uri": "https://localhost:8080/"
        },
        "outputId": "be307714-fea1-4fd0-b469-a98cca713dc6"
      },
      "execution_count": null,
      "outputs": [
        {
          "output_type": "execute_result",
          "data": {
            "text/plain": [
              "dict_items([('Name', 'Johnny Silverhand'), ('Locale', 'Night City'), ('Age', '120'), ('Username', 'Johnny')])"
            ]
          },
          "metadata": {},
          "execution_count": 76
        }
      ]
    },
    {
      "cell_type": "code",
      "source": [
        "cities = [\n",
        "'Daejeon'\n",
        ",\n",
        "'Ulsan'\n",
        ",\n",
        "'Seoul'\n",
        ",\n",
        "'Jeju'\n",
        ",\n",
        "'Busan'\n",
        ",\n",
        "'Ulsan'\n",
        ",\n",
        "'Daegu'\n",
        ",\n",
        "'Daejeon'\n",
        ",\n",
        "'Seoul'\n",
        ",\n",
        "'Seoul'\n",
        ",\n",
        "'Daejeon'\n",
        ",\n",
        "'Gwangju'\n",
        ",\n",
        "'Busan'\n",
        ",\n",
        "'Daegu'\n",
        ",\n",
        "'Gwangju'\n",
        ",\n",
        "'Daejeon'\n",
        ",\n",
        "'Ulsan'\n",
        ",\n",
        "'Jeju'\n",
        ",\n",
        "'Gwangju'\n",
        ",\n",
        "'Seoul'\n",
        "]\n",
        "list(set(cities))"
      ],
      "metadata": {
        "id": "kD00qBHqfClv",
        "colab": {
          "base_uri": "https://localhost:8080/"
        },
        "outputId": "f15aa75a-0f15-4b01-deac-bf3944d3549d"
      },
      "execution_count": null,
      "outputs": [
        {
          "output_type": "execute_result",
          "data": {
            "text/plain": [
              "['Daegu', 'Seoul', 'Gwangju', 'Daejeon', 'Jeju', 'Ulsan', 'Busan']"
            ]
          },
          "metadata": {},
          "execution_count": 86
        }
      ]
    },
    {
      "cell_type": "code",
      "source": [
        "arr = list(set(cities)).sort(reverse=True)\n",
        "print(arr)"
      ],
      "metadata": {
        "colab": {
          "base_uri": "https://localhost:8080/"
        },
        "id": "Dmftn9OqvaVT",
        "outputId": "767dfb1f-8bd9-49a0-986e-35e798f2bbfc"
      },
      "execution_count": null,
      "outputs": [
        {
          "output_type": "stream",
          "name": "stdout",
          "text": [
            "None\n"
          ]
        }
      ]
    },
    {
      "cell_type": "code",
      "source": [],
      "metadata": {
        "id": "05lll450vzIP"
      },
      "execution_count": null,
      "outputs": []
    },
    {
      "cell_type": "code",
      "source": [],
      "metadata": {
        "id": "0UkpGu1nvxD2"
      },
      "execution_count": null,
      "outputs": []
    },
    {
      "cell_type": "code",
      "source": [],
      "metadata": {
        "id": "iS2ihDaIvtVQ"
      },
      "execution_count": null,
      "outputs": []
    },
    {
      "cell_type": "code",
      "source": [],
      "metadata": {
        "id": "TXxKCm1Avo3c"
      },
      "execution_count": null,
      "outputs": []
    },
    {
      "cell_type": "code",
      "source": [],
      "metadata": {
        "id": "xS0sDnvQvlTD"
      },
      "execution_count": null,
      "outputs": []
    },
    {
      "cell_type": "code",
      "source": [],
      "metadata": {
        "id": "j4ccI9n9LN_4"
      },
      "execution_count": null,
      "outputs": []
    },
    {
      "cell_type": "code",
      "source": [],
      "metadata": {
        "id": "9DwSiwaSxWBN"
      },
      "execution_count": null,
      "outputs": []
    },
    {
      "cell_type": "code",
      "source": [],
      "metadata": {
        "id": "OZ5BcCryGDah"
      },
      "execution_count": null,
      "outputs": []
    }
  ]
}